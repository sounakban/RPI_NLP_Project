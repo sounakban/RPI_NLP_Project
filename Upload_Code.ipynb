{
 "cells": [
  {
   "cell_type": "markdown",
   "metadata": {
    "colab_type": "text",
    "id": "uBxHITsZP4pV"
   },
   "source": [
    "# Download and Load GloVe Vectors"
   ]
  },
  {
   "cell_type": "code",
   "execution_count": 0,
   "metadata": {
    "colab": {
     "base_uri": "https://localhost:8080/",
     "height": 662
    },
    "colab_type": "code",
    "id": "Nx9T2MVDgNpL",
    "outputId": "5abbbd5e-57d1-4fea-c7fe-1f88d61c9b55"
   },
   "outputs": [
    {
     "name": "stdout",
     "output_type": "stream",
     "text": [
      "Collecting paramiko\n",
      "\u001b[?25l  Downloading https://files.pythonhosted.org/packages/cf/ae/94e70d49044ccc234bfdba20114fa947d7ba6eb68a2e452d89b920e62227/paramiko-2.4.2-py2.py3-none-any.whl (193kB)\n",
      "\u001b[K    100% |████████████████████████████████| 194kB 23.0MB/s \n",
      "\u001b[?25hCollecting bcrypt>=3.1.3 (from paramiko)\n",
      "\u001b[?25l  Downloading https://files.pythonhosted.org/packages/d0/79/79a4d167a31cc206117d9b396926615fa9c1fdbd52017bcced80937ac501/bcrypt-3.1.6-cp34-abi3-manylinux1_x86_64.whl (55kB)\n",
      "\u001b[K    100% |████████████████████████████████| 61kB 24.6MB/s \n",
      "\u001b[?25hRequirement already satisfied: pyasn1>=0.1.7 in /usr/local/lib/python3.6/dist-packages (from paramiko) (0.4.5)\n",
      "Collecting cryptography>=1.5 (from paramiko)\n",
      "\u001b[?25l  Downloading https://files.pythonhosted.org/packages/5b/12/b0409a94dad366d98a8eee2a77678c7a73aafd8c0e4b835abea634ea3896/cryptography-2.6.1-cp34-abi3-manylinux1_x86_64.whl (2.3MB)\n",
      "\u001b[K    100% |████████████████████████████████| 2.3MB 10.1MB/s \n",
      "\u001b[?25hCollecting pynacl>=1.0.1 (from paramiko)\n",
      "\u001b[?25l  Downloading https://files.pythonhosted.org/packages/27/15/2cd0a203f318c2240b42cd9dd13c931ddd61067809fee3479f44f086103e/PyNaCl-1.3.0-cp34-abi3-manylinux1_x86_64.whl (759kB)\n",
      "\u001b[K    100% |████████████████████████████████| 768kB 16.7MB/s \n",
      "\u001b[?25hRequirement already satisfied: six>=1.4.1 in /usr/local/lib/python3.6/dist-packages (from bcrypt>=3.1.3->paramiko) (1.12.0)\n",
      "Requirement already satisfied: cffi>=1.1 in /usr/local/lib/python3.6/dist-packages (from bcrypt>=3.1.3->paramiko) (1.12.3)\n",
      "Collecting asn1crypto>=0.21.0 (from cryptography>=1.5->paramiko)\n",
      "\u001b[?25l  Downloading https://files.pythonhosted.org/packages/ea/cd/35485615f45f30a510576f1a56d1e0a7ad7bd8ab5ed7cdc600ef7cd06222/asn1crypto-0.24.0-py2.py3-none-any.whl (101kB)\n",
      "\u001b[K    100% |████████████████████████████████| 102kB 31.2MB/s \n",
      "\u001b[?25hRequirement already satisfied: pycparser in /usr/local/lib/python3.6/dist-packages (from cffi>=1.1->bcrypt>=3.1.3->paramiko) (2.19)\n",
      "Installing collected packages: bcrypt, asn1crypto, cryptography, pynacl, paramiko\n",
      "Successfully installed asn1crypto-0.24.0 bcrypt-3.1.6 cryptography-2.6.1 paramiko-2.4.2 pynacl-1.3.0\n",
      "--2019-04-25 20:45:25--  http://nlp.stanford.edu/data/glove.6B.zip\n",
      "Resolving nlp.stanford.edu (nlp.stanford.edu)... 171.64.67.140\n",
      "Connecting to nlp.stanford.edu (nlp.stanford.edu)|171.64.67.140|:80... connected.\n",
      "HTTP request sent, awaiting response... 302 Found\n",
      "Location: https://nlp.stanford.edu/data/glove.6B.zip [following]\n",
      "--2019-04-25 20:45:25--  https://nlp.stanford.edu/data/glove.6B.zip\n",
      "Connecting to nlp.stanford.edu (nlp.stanford.edu)|171.64.67.140|:443... connected.\n",
      "HTTP request sent, awaiting response... 200 OK\n",
      "Length: 862182613 (822M) [application/zip]\n",
      "Saving to: ‘glove.6B.zip’\n",
      "\n",
      "glove.6B.zip        100%[===================>] 822.24M  2.27MB/s    in 5m 22s  \n",
      "\n",
      "2019-04-25 20:50:46 (2.55 MB/s) - ‘glove.6B.zip’ saved [862182613/862182613]\n",
      "\n"
     ]
    }
   ],
   "source": [
    "!pip install paramiko\n",
    "!wget http://nlp.stanford.edu/data/glove.6B.zip\n",
    "  \n",
    "import zipfile\n",
    "zip_ref = zipfile.ZipFile(\"glove.6B.zip\", 'r')\n",
    "zip_ref.extractall(\"./\")\n",
    "zip_ref.close()\n",
    "\n",
    "from gensim.scripts.glove2word2vec import glove2word2vec\n",
    "_ = glove2word2vec(\"glove.6B.300d.txt\", \"w2v_from_glove.6B.300d.txt\")\n",
    "\n",
    "from gensim.models import KeyedVectors\n",
    "glove_embeddings = KeyedVectors.load_word2vec_format('w2v_from_glove.6B.300d.txt', binary=False)"
   ]
  },
  {
   "cell_type": "markdown",
   "metadata": {
    "colab_type": "text",
    "id": "FCXDRpfSOxxJ"
   },
   "source": [
    "# Actual Code"
   ]
  },
  {
   "cell_type": "markdown",
   "metadata": {
    "colab_type": "text",
    "id": "6Lyn_Z0QQLb4"
   },
   "source": [
    "## Load data and pre-process"
   ]
  },
  {
   "cell_type": "code",
   "execution_count": 0,
   "metadata": {
    "colab": {
     "base_uri": "https://localhost:8080/",
     "height": 176
    },
    "colab_type": "code",
    "id": "Jx2myH1Guv3B",
    "outputId": "5c40a12f-bad8-428e-d7db-50d393b19cde"
   },
   "outputs": [
    {
     "name": "stdout",
     "output_type": "stream",
     "text": [
      "[nltk_data] Downloading package averaged_perceptron_tagger to\n",
      "[nltk_data]     /root/nltk_data...\n",
      "[nltk_data]   Unzipping taggers/averaged_perceptron_tagger.zip.\n",
      "[nltk_data] Downloading package punkt to /root/nltk_data...\n",
      "[nltk_data]   Unzipping tokenizers/punkt.zip.\n",
      "[nltk_data] Downloading package wordnet to /root/nltk_data...\n",
      "[nltk_data]   Unzipping corpora/wordnet.zip.\n",
      "Label frequencies in dataset :  Counter({'sio:Quantity': 5, 'sio:Age': 4, 'chear:Language': 4, 'chear:EducationLevel': 4, 'sio:TimeInterval': 3, 'sio:StatusDescriptor': 3, 'sio:Race': 2, 'sio:Country': 2, 'sio:BiologicalSex': 2, 'chear:Weight': 2, 'chear:MaritalStatus': 2, 'chear:Income': 2, 'sio:Ratio': 1, 'sio:Identifier': 1})\n"
     ]
    }
   ],
   "source": [
    "# Load Data\n",
    "import numpy as np\n",
    "import pandas as pd\n",
    "import re\n",
    "import nltk\n",
    "nltk.download('averaged_perceptron_tagger')\n",
    "nltk.download('punkt')\n",
    "nltk.download('wordnet')\n",
    "import spacy\n",
    "tagger = spacy.load('en')\n",
    "from nltk.stem import WordNetLemmatizer\n",
    "lemmatizer = WordNetLemmatizer()\n",
    "\n",
    "data = pd.read_csv(\"demographicsSDD-1_fixed.csv\")\n",
    "data[\"Combined\"] = data[\"Label\"]\n",
    "data = data.replace({'Combined': \"HH\"}, {'Combined': 'Household'}, regex=True)\n",
    "data = data.replace({'Combined': \"#\"}, {'Combined': 'number'}, regex=True)\n",
    "data = data.replace({'Combined': r\"[^a-zA-Z]+\"}, {'Combined': ' '}, regex=True)\n",
    "data = data.replace({'attributeOf': '\\?\\?*'}, {'attributeOf': ''}, regex=True)\n",
    "data = data.replace({'attributeOf': 'hh'}, {'attributeOf': 'Household'}, regex=True)\n",
    "data = data[[\"Combined\", \"attributeOf\", \"Attribute\"]].dropna()\n",
    "\n",
    "data = data[data.Attribute != 'ncit:C114854']\n",
    "data = data[data.Attribute != 'chear:UnknownAttribute']\n",
    "labels = data.Attribute\n",
    "\n",
    "from collections import Counter\n",
    "label_stats = Counter(labels)\n",
    "\n",
    "sentences = list(data.Combined.str.lower())\n",
    "\n",
    "\n",
    "new_sentences = [] ; new_labels = [] ; weights = []\n",
    "for i, lab in enumerate(labels):\n",
    "  tags = tagger(sentences[i])\n",
    "  temp = [token.text for token in tags if (token.dep_ in 'ROOT pobj nsubj compound') and len(token.text)>1]\n",
    "  word_count = len(temp)\n",
    "  temp = \" \".join(temp)\n",
    "  if len(temp)>0:\n",
    "    temp_lab = \" \".join([x for x in re.sub('(?<=[A-Za-z])(?=[A-Z][a-z])', ' ', lab.split(\":\")[1]).lower().split()])\n",
    "    new_sentences.append(temp)\n",
    "    new_labels.append(temp_lab)\n",
    "    weights.append([word_count if token.dep_ == \"ROOT\" else 1 for token in tags if (token.dep_ in 'ROOT pobj nsubj compound') and len(token.text)>1])\n",
    "\n",
    "    \n",
    "print(\"Label frequencies in dataset : \", label_stats)"
   ]
  },
  {
   "cell_type": "markdown",
   "metadata": {
    "colab_type": "text",
    "id": "F-_6MJJwQT_2"
   },
   "source": [
    "## Convert data format to fit model input format"
   ]
  },
  {
   "cell_type": "code",
   "execution_count": 0,
   "metadata": {
    "colab": {},
    "colab_type": "code",
    "id": "IQ6SkWFK_oOX"
   },
   "outputs": [],
   "source": [
    "sentences = pd.Series(new_sentences)\n",
    "labels = pd.Series(new_labels)\n",
    "\n",
    "# Create list of all words in dataset\n",
    "all_words = set()\n",
    "sentences.str.split().apply(all_words.update)\n",
    "labels.str.split().apply(all_words.update)\n",
    "all_words = set([word for word in all_words if word in glove_embeddings and len(word)>1])\n",
    "\n",
    "import re\n",
    "word_list = set([x for x in all_words if len(x)>1])\n",
    "token_dict = {x[1]:x[0] for x in enumerate(word_list)}"
   ]
  },
  {
   "cell_type": "code",
   "execution_count": 0,
   "metadata": {
    "colab": {},
    "colab_type": "code",
    "id": "WuKK2EJM6WkM"
   },
   "outputs": [],
   "source": [
    "# Functions for Preprocessing Data\n",
    "\n",
    "def convert_inputFormat(sentences, labels, labels_set, tokenizer, max_length_Sentence, max_length_label):\n",
    "  from keras.preprocessing.sequence import pad_sequences\n",
    "  from keras.utils import to_categorical\n",
    "  \n",
    "  return_data = {\"X_sentences\" : [], \"X_labels\" : [], \"y\" : []}\n",
    "  for i in range(len(sentences)):\n",
    "    for curr_label in labels_set:\n",
    "      return_data[\"X_sentences\"].append(sentences[i])\n",
    "      return_data[\"X_labels\"].append(curr_label)\n",
    "      return_data[\"y\"].append(1 if curr_label == labels[i] else 0)\n",
    "\n",
    "  X_sentences = tokenizer.texts_to_sequences(return_data[\"X_sentences\"])\n",
    "  \n",
    "  X_labels = tokenizer.texts_to_sequences(return_data[\"X_labels\"])\n",
    "  \n",
    "  y = return_data[\"y\"]\n",
    "  \n",
    "  return X_sentences, X_labels, y\n"
   ]
  },
  {
   "cell_type": "code",
   "execution_count": null,
   "metadata": {
    "colab": {
     "base_uri": "https://localhost:8080/",
     "height": 34
    },
    "colab_type": "code",
    "id": "G4f6ZUTLFHA1",
    "outputId": "2fe7b76f-5c73-412b-eba9-f0e06c72be5c"
   },
   "outputs": [],
   "source": [
    "# Create data splits\n",
    "from keras.preprocessing.text import Tokenizer\n",
    "\n",
    "sentences = list(sentences)\n",
    "labels = list(labels)\n",
    "labels_set = list(set(labels))\n",
    "max_length_Sentence = max([len(s.split()) for s in sentences])\n",
    "max_length_label = max([len(s.split('_')) for s in set(labels)])\n",
    "\n",
    "tokenizer = Tokenizer(filters='!\"#$%&()*+,-./:;<=>?@[\\\\]^_`{|}~\\t\\n0123456789', lower=True, oov_token=False)\n",
    "tokenizer.fit_on_texts(labels+sentences)\n",
    "\n",
    "from sklearn.model_selection import train_test_split\n",
    "sentences_train = sentences\n",
    "labels_train = labels\n",
    "\n",
    "X_train_sent, X_train_labels, y_train = convert_inputFormat(sentences_train, labels_train, labels_set, tokenizer, max_length_Sentence, max_length_label)\n",
    "weights_new=[]\n",
    "for w in weights:\n",
    "  weights_new.extend([w]*len(labels_set))\n",
    "weights = weights_new"
   ]
  },
  {
   "cell_type": "markdown",
   "metadata": {
    "colab_type": "text",
    "id": "PlG30WN4Qlkg"
   },
   "source": [
    "## Create embedding matrix"
   ]
  },
  {
   "cell_type": "code",
   "execution_count": 0,
   "metadata": {
    "colab": {
     "base_uri": "https://localhost:8080/",
     "height": 52
    },
    "colab_type": "code",
    "id": "YVNnGh0mcI3S",
    "outputId": "fe75c1d4-4ae5-4152-c902-f24ba2f12d79"
   },
   "outputs": [
    {
     "name": "stdout",
     "output_type": "stream",
     "text": [
      "word not found:  False\n",
      "word not found:  acasi\n"
     ]
    }
   ],
   "source": [
    "mu, sigma = 0.1, 0.4 # mean and standard deviation\n",
    "embedding_size = 300\n",
    "\n",
    "embedding_matrix = np.zeros((len(tokenizer.word_index) + 1, embedding_size))\n",
    "for word, index in tokenizer.word_index.items():\n",
    "  if word in glove_embeddings:\n",
    "    embedding_matrix[index] = glove_embeddings[word]*(10**2)\n",
    "  else:\n",
    "    print(\"word not found: \", word)"
   ]
  },
  {
   "cell_type": "markdown",
   "metadata": {
    "colab_type": "text",
    "id": "6aEhCfA6Qrfo"
   },
   "source": [
    "## Model : Get distances"
   ]
  },
  {
   "cell_type": "code",
   "execution_count": null,
   "metadata": {
    "colab": {
     "base_uri": "https://localhost:8080/",
     "height": 52
    },
    "colab_type": "code",
    "id": "3we7l8R9XWn4",
    "outputId": "cb3c7bd1-cedb-4529-b78e-5ea1156b895c"
   },
   "outputs": [],
   "source": [
    "from scipy import spatial\n",
    "import math\n",
    "similarity = []\n",
    "  \n",
    "  \n",
    "## Using Distance measures\n",
    "for sent, label, weight in zip(X_train_sent, X_train_labels, weights):\n",
    "  sent_embd = embedding_matrix[sent]\n",
    "  label_embd = embedding_matrix[label]\n",
    "  result = [] ; wt = []\n",
    "  for i, sent_word in enumerate(sent_embd):\n",
    "    for label_word in label_embd:\n",
    "      temp = spatial.distance.cosine(label_word, sent_word)\n",
    "      if math.isnan(temp):\n",
    "        continue\n",
    "      elif temp == 0:\n",
    "        result.append(4)\n",
    "      else:\n",
    "        result.append((1-temp))\n",
    "      wt.append(weight[i])\n",
    "  # Eucledian distance\n",
    "  result = spatial.distance.euclidean(result, np.zeros(len(result)), w=wt)\n",
    "  similarity.append(result)"
   ]
  },
  {
   "cell_type": "markdown",
   "metadata": {
    "colab_type": "text",
    "id": "ZtG600ukQzlj"
   },
   "source": [
    "## Change prediction format to calculate performance metrics"
   ]
  },
  {
   "cell_type": "code",
   "execution_count": 0,
   "metadata": {
    "colab": {},
    "colab_type": "code",
    "id": "bJlFzN2qNTYE"
   },
   "outputs": [],
   "source": [
    "similarity = np.array(similarity)\n",
    "similarity_sample = np.split(similarity, similarity.shape[0]/len(labels_set))\n",
    "similarity_sample_normalized = np.array([((sample-sample.min())/(sample.max()-sample.min())) for sample in similarity_sample])\n",
    "\n",
    "y_train = np.array(y_train)\n",
    "y_train_sample = np.split(y_train, y_train.shape[0]/len(labels_set))"
   ]
  },
  {
   "cell_type": "markdown",
   "metadata": {
    "colab_type": "text",
    "id": "8HBg3ZHMSAH6"
   },
   "source": [
    "## Get performance scores"
   ]
  },
  {
   "cell_type": "code",
   "execution_count": 0,
   "metadata": {
    "colab": {
     "base_uri": "https://localhost:8080/",
     "height": 34
    },
    "colab_type": "code",
    "id": "tiOFpQC1RIXQ",
    "outputId": "fe63ca15-06fa-480b-e929-1baba02ce36d"
   },
   "outputs": [
    {
     "data": {
      "text/plain": [
       "0.7027027027027027"
      ]
     },
     "execution_count": 15,
     "metadata": {
      "tags": []
     },
     "output_type": "execute_result"
    }
   ],
   "source": [
    "from sklearn.metrics import accuracy_score\n",
    "accuracy_score(np.argmax(y_train_sample, axis=1), np.argmax(similarity_sample_normalized, axis=1))"
   ]
  },
  {
   "cell_type": "code",
   "execution_count": 0,
   "metadata": {
    "colab": {
     "base_uri": "https://localhost:8080/",
     "height": 524
    },
    "colab_type": "code",
    "id": "dijUNQS1Sw0Q",
    "outputId": "343beb48-3432-4122-a1ba-995094b3cb55"
   },
   "outputs": [
    {
     "data": {
      "text/plain": [
       "<matplotlib.axes._subplots.AxesSubplot at 0x7fc792dc3dd8>"
      ]
     },
     "execution_count": 25,
     "metadata": {
      "tags": []
     },
     "output_type": "execute_result"
    },
    {
     "data": {
      "image/png": "[encoded data removed]",
      "text/plain": [
       "<Figure size 720x504 with 2 Axes>"
      ]
     },
     "metadata": {
      "tags": []
     },
     "output_type": "display_data"
    }
   ],
   "source": [
    "y_true_conf = [] ; y_pred_conf = []\n",
    "for x in list(zip(np.argmax(y_train_sample, axis=1), np.argmax(similarity_sample_normalized, axis=1), sentences_train)):\n",
    "  y_true_conf.append(label_dict[x[0]])\n",
    "  y_pred_conf.append(label_dict[x[1]])\n",
    "\n",
    "import seaborn as sn\n",
    "import pandas as pd\n",
    "import matplotlib.pyplot as plt\n",
    "from sklearn.metrics import confusion_matrix\n",
    "array = confusion_matrix(y_true_conf, y_pred_conf, labels=labels_set)\n",
    "df_cm = pd.DataFrame(array, index = labels_set,\n",
    "                  columns = labels_set)\n",
    "plt.figure(figsize = (10,7))\n",
    "sn.heatmap(df_cm, annot=True)"
   ]
  }
 ],
 "metadata": {
  "colab": {
   "collapsed_sections": [],
   "name": "Upload_Code.ipynb",
   "provenance": [],
   "version": "0.3.2"
  },
  "kernelspec": {
   "display_name": "Python 3",
   "language": "python",
   "name": "python3"
  },
  "language_info": {
   "codemirror_mode": {
    "name": "ipython",
    "version": 3
   },
   "file_extension": ".py",
   "mimetype": "text/x-python",
   "name": "python",
   "nbconvert_exporter": "python",
   "pygments_lexer": "ipython3",
   "version": "3.7.3"
  }
 },
 "nbformat": 4,
 "nbformat_minor": 1
}
